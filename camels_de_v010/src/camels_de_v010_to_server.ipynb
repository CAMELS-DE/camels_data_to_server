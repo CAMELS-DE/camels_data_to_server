{
 "cells": [
  {
   "cell_type": "code",
   "execution_count": 1,
   "metadata": {},
   "outputs": [],
   "source": [
    "import requests\n",
    "import os\n",
    "import zipfile\n",
    "import shutil\n",
    "\n",
    "from glob import glob\n",
    "from tqdm import tqdm\n",
    "import geopandas as gpd\n",
    "import pandas as pd"
   ]
  },
  {
   "cell_type": "markdown",
   "metadata": {},
   "source": [
    "## 1) Download to `in`\n",
    "\n",
    "Download CAMELS-DE from Zenodo (10.5281/zenodo.12733968) if it does not exist yet."
   ]
  },
  {
   "cell_type": "code",
   "execution_count": 4,
   "metadata": {},
   "outputs": [
    {
     "name": "stdout",
     "output_type": "stream",
     "text": [
      "Data is already downloaded.\n"
     ]
    }
   ],
   "source": [
    "# Check if the data is already downloaded in the `in` directory\n",
    "if os.path.exists(\"../in/camels_de_v0_1_0\"):\n",
    "    print(\"Data is already downloaded.\")\n",
    "else:\n",
    "    # Define the DOI and construct the URL\n",
    "    doi = \"10.5281/zenodo.12733968\"\n",
    "    url = f\"https://zenodo.org/records/{doi.split('.')[2].split('/')[-1]}/files/camels_de.zip?download=1\"\n",
    "\n",
    "    # Send a GET request to the URL\n",
    "    response = requests.get(url)\n",
    "    response.raise_for_status()  # Check if the request was successful\n",
    "\n",
    "    # Write the content of the response to a file\n",
    "    with open(\"../in/camels_de.zip\", \"wb\") as f:\n",
    "        f.write(response.content)\n",
    "\n",
    "    # Unzip the downloaded file\n",
    "    with zipfile.ZipFile(\"../in/camels_de.zip\", \"r\") as zip_ref:\n",
    "        zip_ref.extractall(\"../in/camels_de_v0_1_0\")\n",
    "\n",
    "    # Remove the downloaded zip file\n",
    "    os.remove(\"../in/camels_de.zip\")\n",
    "\n",
    "    print(\"Download complete.\")"
   ]
  },
  {
   "cell_type": "markdown",
   "metadata": {},
   "source": [
    "## 2) Restructure the data for the FastAPI backend to `out`"
   ]
  },
  {
   "cell_type": "code",
   "execution_count": 6,
   "metadata": {},
   "outputs": [],
   "source": [
    "os.makedirs(\"../out/camels_de_v0_1_0\", exist_ok=True)"
   ]
  },
  {
   "cell_type": "markdown",
   "metadata": {},
   "source": [
    "First, copy attributes as is."
   ]
  },
  {
   "cell_type": "code",
   "execution_count": 8,
   "metadata": {},
   "outputs": [
    {
     "name": "stdout",
     "output_type": "stream",
     "text": [
      "Copied ../in/camels_de_v0_1_0/CAMELS_DE_humaninfluence_attributes.csv to ../out/camels_de_v0_1_0/\n",
      "Copied ../in/camels_de_v0_1_0/CAMELS_DE_topographic_attributes.csv to ../out/camels_de_v0_1_0/\n",
      "Copied ../in/camels_de_v0_1_0/CAMELS_DE_climatic_attributes.csv to ../out/camels_de_v0_1_0/\n",
      "Copied ../in/camels_de_v0_1_0/CAMELS_DE_soil_attributes.csv to ../out/camels_de_v0_1_0/\n",
      "Copied ../in/camels_de_v0_1_0/CAMELS_DE_hydrogeology_attributes.csv to ../out/camels_de_v0_1_0/\n",
      "Copied ../in/camels_de_v0_1_0/CAMELS_DE_hydrologic_attributes.csv to ../out/camels_de_v0_1_0/\n",
      "Copied ../in/camels_de_v0_1_0/CAMELS_DE_landcover_attributes.csv to ../out/camels_de_v0_1_0/\n",
      "Copied ../in/camels_de_v0_1_0/CAMELS_DE_simulation_benchmark.csv to ../out/camels_de_v0_1_0/\n"
     ]
    }
   ],
   "source": [
    "attribute_files = glob(\"../in/camels_de_v0_1_0/*attributes.csv\")\n",
    "attribute_files += [\"../in/camels_de_v0_1_0/CAMELS_DE_simulation_benchmark.csv\"]\n",
    "\n",
    "# Copy attributes files to out\n",
    "for file in attribute_files:\n",
    "    shutil.copy(file, \"../out/camels_de_v0_1_0/\")\n",
    "    print(f\"Copied {file} to ../out/camels_de_v0_1_0/\")"
   ]
  },
  {
   "cell_type": "markdown",
   "metadata": {},
   "source": [
    "Next, copy the CAMELS_DE_catchment_boundaries folder as is."
   ]
  },
  {
   "cell_type": "code",
   "execution_count": 15,
   "metadata": {},
   "outputs": [],
   "source": [
    "shutil.copytree(\"../in/camels_de_v0_1_0/CAMELS_DE_catchment_boundaries/\", \"../out/camels_de_v0_1_0/CAMELS_DE_catchment_boundaries/\", dirs_exist_ok=True)\n",
    "\n",
    "# Also make geojson files\n",
    "gdf_catchments = gpd.read_file(\"../in/camels_de_v0_1_0/CAMELS_DE_catchment_boundaries/catchments/CAMELS_DE_catchments.gpkg\").to_crs(\"EPSG:4326\")\n",
    "gdf_catchments.to_file(\"../out/camels_de_v0_1_0/CAMELS_DE_catchment_boundaries/catchments/CAMELS_DE_catchments.geojson\", driver=\"GeoJSON\")\n",
    "gdf_stations = gpd.read_file(\"../in/camels_de_v0_1_0/CAMELS_DE_catchment_boundaries/gauging_stations/CAMELS_DE_gauging_stations.gpkg\").to_crs(\"EPSG:4326\")\n",
    "gdf_stations.to_file(\"../out/camels_de_v0_1_0/CAMELS_DE_catchment_boundaries/gauging_stations/CAMELS_DE_gauging_stations.geojson\", driver=\"GeoJSON\")"
   ]
  },
  {
   "cell_type": "markdown",
   "metadata": {},
   "source": [
    "Now, we go for the catchment specific data. We will restructure the data to be more easily accessible by the FastAPI backend."
   ]
  },
  {
   "cell_type": "markdown",
   "metadata": {},
   "source": [
    "# get all IDs\n",
    "ids = [id.split(\"_\")[-1].split(\".\")[0] for id in glob(\"../in/camels_de_v0_1_0/timeseries/CAMELS_DE_hydromet_timeseries_*.csv\")]\n",
    "\n",
    "for id in tqdm(ids):\n",
    "    # create a folder for each catchment ID\n",
    "    os.makedirs(\"../out/camels_de_v0_1_0/catchments\", exist_ok=True)\n",
    "\n",
    "    # make a folder for the catchment\n",
    "    os.makedirs(f\"../out/camels_de_v0_1_0/catchments/{id}\", exist_ok=True)\n",
    "\n",
    "    # make subdirectories for timeseries, attributes and geometry\n",
    "    os.makedirs(f\"../out/camels_de_v0_1_0/catchments/{id}/timeseries\", exist_ok=True)\n",
    "    os.makedirs(f\"../out/camels_de_v0_1_0/catchments/{id}/attributes\", exist_ok=True)\n",
    "    os.makedirs(f\"../out/camels_de_v0_1_0/catchments/{id}/geometry\", exist_ok=True)\n",
    "\n",
    "    # copy the timeseries files\n",
    "    shutil.copy(f\"../in/camels_de_v0_1_0/timeseries/CAMELS_DE_hydromet_timeseries_{id}.csv\", f\"../out/camels_de_v0_1_0/catchments/{id}/timeseries/CAMELS_DE_hydromet_timeseries_{id}.csv\")\n",
    "    shutil.copy(f\"../in/camels_de_v0_1_0/timeseries_simulated/CAMELS_DE_discharge_sim_{id}.csv\", f\"../out/camels_de_v0_1_0/catchments/{id}/timeseries/CAMELS_DE_discharge_sim_{id}.csv\")\n",
    "\n",
    "    # copy the attributes files\n",
    "    for file in attribute_files:\n",
    "        df = pd.read_csv(file)\n",
    "        df = df[df[\"gauge_id\"] == id].reset_index(drop=True)\n",
    "        df.to_csv(f\"../out/camels_de_v0_1_0/catchments/{id}/attributes/{file.split('/')[-1]}\", index=False)\n",
    "\n",
    "    # copy the geometry files\n",
    "    gdf = gdf_catchments[gdf_catchments[\"gauge_id\"] == id].reset_index(drop=True)\n",
    "    gdf.to_file(f\"../out/camels_de_v0_1_0/catchments/{id}/geometry/CAMELS_DE_catchment_{id}.geojson\", driver=\"GeoJSON\")\n",
    "    gdf = gdf_stations[gdf_stations[\"gauge_id\"] == id].reset_index(drop=True)\n",
    "    gdf.to_file(f\"../out/camels_de_v0_1_0/catchments/{id}/geometry/CAMELS_DE_gauging_station_{id}.geojson\", driver=\"GeoJSON\")"
   ]
  }
 ],
 "metadata": {
  "kernelspec": {
   "display_name": "base",
   "language": "python",
   "name": "python3"
  },
  "language_info": {
   "codemirror_mode": {
    "name": "ipython",
    "version": 3
   },
   "file_extension": ".py",
   "mimetype": "text/x-python",
   "name": "python",
   "nbconvert_exporter": "python",
   "pygments_lexer": "ipython3",
   "version": "3.11.7"
  }
 },
 "nbformat": 4,
 "nbformat_minor": 2
}
